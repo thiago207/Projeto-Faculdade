{
 "cells": [
  {
   "cell_type": "code",
   "execution_count": 45,
   "id": "f66e0576",
   "metadata": {},
   "outputs": [
    {
     "data": {
      "application/vnd.microsoft.datawrangler.viewer.v0+json": {
       "columns": [
        {
         "name": "index",
         "rawType": "int64",
         "type": "integer"
        },
        {
         "name": "DATA INICIAL",
         "rawType": "object",
         "type": "string"
        },
        {
         "name": "DATA FINAL",
         "rawType": "object",
         "type": "string"
        },
        {
         "name": "REGIÃO",
         "rawType": "object",
         "type": "string"
        },
        {
         "name": "ESTADO",
         "rawType": "object",
         "type": "string"
        },
        {
         "name": "PRODUTO",
         "rawType": "object",
         "type": "string"
        },
        {
         "name": "NÚMERO DE POSTOS PESQUISADOS",
         "rawType": "int64",
         "type": "integer"
        },
        {
         "name": "UNIDADE DE MEDIDA",
         "rawType": "object",
         "type": "string"
        },
        {
         "name": "PREÇO MÉDIO REVENDA",
         "rawType": "float64",
         "type": "float"
        },
        {
         "name": "DESVIO PADRÃO REVENDA",
         "rawType": "float64",
         "type": "float"
        },
        {
         "name": "PREÇO MÍNIMO REVENDA",
         "rawType": "float64",
         "type": "float"
        },
        {
         "name": "PREÇO MÁXIMO REVENDA",
         "rawType": "float64",
         "type": "float"
        },
        {
         "name": "MARGEM MÉDIA REVENDA",
         "rawType": "object",
         "type": "string"
        },
        {
         "name": "COEF DE VARIAÇÃO REVENDA",
         "rawType": "float64",
         "type": "float"
        },
        {
         "name": "PREÇO MÉDIO DISTRIBUIÇÃO",
         "rawType": "object",
         "type": "string"
        },
        {
         "name": "DESVIO PADRÃO DISTRIBUIÇÃO",
         "rawType": "object",
         "type": "string"
        },
        {
         "name": "PREÇO MÍNIMO DISTRIBUIÇÃO",
         "rawType": "object",
         "type": "string"
        },
        {
         "name": "PREÇO MÁXIMO DISTRIBUIÇÃO",
         "rawType": "object",
         "type": "string"
        },
        {
         "name": "COEF DE VARIAÇÃO DISTRIBUIÇÃO",
         "rawType": "object",
         "type": "string"
        }
       ],
       "ref": "68f8cb42-be62-4640-8f49-e39cac2f842d",
       "rows": [
        [
         "0",
         "2004-05-09",
         "2004-05-15",
         "CENTRO OESTE",
         "DISTRITO FEDERAL",
         "ETANOL HIDRATADO",
         "127",
         "R$/l",
         "1.288",
         "0.016",
         "1.19",
         "1.35",
         "0.463",
         "0.012",
         "0.825",
         "0.11",
         "0.4201",
         "0.9666",
         "0.133"
        ],
        [
         "1",
         "2004-05-09",
         "2004-05-15",
         "CENTRO OESTE",
         "GOIAS",
         "ETANOL HIDRATADO",
         "387",
         "R$/l",
         "1.162",
         "0.114",
         "0.89",
         "1.449",
         "0.399",
         "0.098",
         "0.763",
         "0.088",
         "0.5013",
         "1.05",
         "0.115"
        ],
        [
         "2",
         "2004-05-09",
         "2004-05-15",
         "CENTRO OESTE",
         "MATO GROSSO",
         "ETANOL HIDRATADO",
         "192",
         "R$/l",
         "1.389",
         "0.0969999999999999",
         "1.18",
         "1.76",
         "0.419",
         "0.07",
         "0.97",
         "0.095",
         "0.5614",
         "1.161",
         "0.098"
        ],
        [
         "3",
         "2004-05-09",
         "2004-05-15",
         "CENTRO OESTE",
         "MATO GROSSO DO SUL",
         "ETANOL HIDRATADO",
         "162",
         "R$/l",
         "1.262",
         "0.07",
         "1.09",
         "1.509",
         "0.432",
         "0.055",
         "0.83",
         "0.119",
         "0.5991",
         "1.22242",
         "0.143"
        ],
        [
         "4",
         "2004-05-09",
         "2004-05-15",
         "NORDESTE",
         "ALAGOAS",
         "ETANOL HIDRATADO",
         "103",
         "R$/l",
         "1.181",
         "0.078",
         "1.05",
         "1.4",
         "0.24",
         "0.066",
         "0.941",
         "0.077",
         "0.7441",
         "1.0317",
         "0.082"
        ]
       ],
       "shape": {
        "columns": 18,
        "rows": 5
       }
      },
      "text/html": [
       "<div>\n",
       "<style scoped>\n",
       "    .dataframe tbody tr th:only-of-type {\n",
       "        vertical-align: middle;\n",
       "    }\n",
       "\n",
       "    .dataframe tbody tr th {\n",
       "        vertical-align: top;\n",
       "    }\n",
       "\n",
       "    .dataframe thead th {\n",
       "        text-align: right;\n",
       "    }\n",
       "</style>\n",
       "<table border=\"1\" class=\"dataframe\">\n",
       "  <thead>\n",
       "    <tr style=\"text-align: right;\">\n",
       "      <th></th>\n",
       "      <th>DATA INICIAL</th>\n",
       "      <th>DATA FINAL</th>\n",
       "      <th>REGIÃO</th>\n",
       "      <th>ESTADO</th>\n",
       "      <th>PRODUTO</th>\n",
       "      <th>NÚMERO DE POSTOS PESQUISADOS</th>\n",
       "      <th>UNIDADE DE MEDIDA</th>\n",
       "      <th>PREÇO MÉDIO REVENDA</th>\n",
       "      <th>DESVIO PADRÃO REVENDA</th>\n",
       "      <th>PREÇO MÍNIMO REVENDA</th>\n",
       "      <th>PREÇO MÁXIMO REVENDA</th>\n",
       "      <th>MARGEM MÉDIA REVENDA</th>\n",
       "      <th>COEF DE VARIAÇÃO REVENDA</th>\n",
       "      <th>PREÇO MÉDIO DISTRIBUIÇÃO</th>\n",
       "      <th>DESVIO PADRÃO DISTRIBUIÇÃO</th>\n",
       "      <th>PREÇO MÍNIMO DISTRIBUIÇÃO</th>\n",
       "      <th>PREÇO MÁXIMO DISTRIBUIÇÃO</th>\n",
       "      <th>COEF DE VARIAÇÃO DISTRIBUIÇÃO</th>\n",
       "    </tr>\n",
       "  </thead>\n",
       "  <tbody>\n",
       "    <tr>\n",
       "      <th>0</th>\n",
       "      <td>2004-05-09</td>\n",
       "      <td>2004-05-15</td>\n",
       "      <td>CENTRO OESTE</td>\n",
       "      <td>DISTRITO FEDERAL</td>\n",
       "      <td>ETANOL HIDRATADO</td>\n",
       "      <td>127</td>\n",
       "      <td>R$/l</td>\n",
       "      <td>1.288</td>\n",
       "      <td>0.016</td>\n",
       "      <td>1.19</td>\n",
       "      <td>1.350</td>\n",
       "      <td>0.463</td>\n",
       "      <td>0.012</td>\n",
       "      <td>0.825</td>\n",
       "      <td>0.11</td>\n",
       "      <td>0.4201</td>\n",
       "      <td>0.9666</td>\n",
       "      <td>0.133</td>\n",
       "    </tr>\n",
       "    <tr>\n",
       "      <th>1</th>\n",
       "      <td>2004-05-09</td>\n",
       "      <td>2004-05-15</td>\n",
       "      <td>CENTRO OESTE</td>\n",
       "      <td>GOIAS</td>\n",
       "      <td>ETANOL HIDRATADO</td>\n",
       "      <td>387</td>\n",
       "      <td>R$/l</td>\n",
       "      <td>1.162</td>\n",
       "      <td>0.114</td>\n",
       "      <td>0.89</td>\n",
       "      <td>1.449</td>\n",
       "      <td>0.399</td>\n",
       "      <td>0.098</td>\n",
       "      <td>0.763</td>\n",
       "      <td>0.088</td>\n",
       "      <td>0.5013</td>\n",
       "      <td>1.05</td>\n",
       "      <td>0.115</td>\n",
       "    </tr>\n",
       "    <tr>\n",
       "      <th>2</th>\n",
       "      <td>2004-05-09</td>\n",
       "      <td>2004-05-15</td>\n",
       "      <td>CENTRO OESTE</td>\n",
       "      <td>MATO GROSSO</td>\n",
       "      <td>ETANOL HIDRATADO</td>\n",
       "      <td>192</td>\n",
       "      <td>R$/l</td>\n",
       "      <td>1.389</td>\n",
       "      <td>0.097</td>\n",
       "      <td>1.18</td>\n",
       "      <td>1.760</td>\n",
       "      <td>0.419</td>\n",
       "      <td>0.070</td>\n",
       "      <td>0.97</td>\n",
       "      <td>0.095</td>\n",
       "      <td>0.5614</td>\n",
       "      <td>1.161</td>\n",
       "      <td>0.098</td>\n",
       "    </tr>\n",
       "    <tr>\n",
       "      <th>3</th>\n",
       "      <td>2004-05-09</td>\n",
       "      <td>2004-05-15</td>\n",
       "      <td>CENTRO OESTE</td>\n",
       "      <td>MATO GROSSO DO SUL</td>\n",
       "      <td>ETANOL HIDRATADO</td>\n",
       "      <td>162</td>\n",
       "      <td>R$/l</td>\n",
       "      <td>1.262</td>\n",
       "      <td>0.070</td>\n",
       "      <td>1.09</td>\n",
       "      <td>1.509</td>\n",
       "      <td>0.432</td>\n",
       "      <td>0.055</td>\n",
       "      <td>0.83</td>\n",
       "      <td>0.119</td>\n",
       "      <td>0.5991</td>\n",
       "      <td>1.22242</td>\n",
       "      <td>0.143</td>\n",
       "    </tr>\n",
       "    <tr>\n",
       "      <th>4</th>\n",
       "      <td>2004-05-09</td>\n",
       "      <td>2004-05-15</td>\n",
       "      <td>NORDESTE</td>\n",
       "      <td>ALAGOAS</td>\n",
       "      <td>ETANOL HIDRATADO</td>\n",
       "      <td>103</td>\n",
       "      <td>R$/l</td>\n",
       "      <td>1.181</td>\n",
       "      <td>0.078</td>\n",
       "      <td>1.05</td>\n",
       "      <td>1.400</td>\n",
       "      <td>0.24</td>\n",
       "      <td>0.066</td>\n",
       "      <td>0.941</td>\n",
       "      <td>0.077</td>\n",
       "      <td>0.7441</td>\n",
       "      <td>1.0317</td>\n",
       "      <td>0.082</td>\n",
       "    </tr>\n",
       "  </tbody>\n",
       "</table>\n",
       "</div>"
      ],
      "text/plain": [
       "  DATA INICIAL  DATA FINAL        REGIÃO              ESTADO  \\\n",
       "0   2004-05-09  2004-05-15  CENTRO OESTE    DISTRITO FEDERAL   \n",
       "1   2004-05-09  2004-05-15  CENTRO OESTE               GOIAS   \n",
       "2   2004-05-09  2004-05-15  CENTRO OESTE         MATO GROSSO   \n",
       "3   2004-05-09  2004-05-15  CENTRO OESTE  MATO GROSSO DO SUL   \n",
       "4   2004-05-09  2004-05-15      NORDESTE             ALAGOAS   \n",
       "\n",
       "            PRODUTO  NÚMERO DE POSTOS PESQUISADOS UNIDADE DE MEDIDA  \\\n",
       "0  ETANOL HIDRATADO                           127              R$/l   \n",
       "1  ETANOL HIDRATADO                           387              R$/l   \n",
       "2  ETANOL HIDRATADO                           192              R$/l   \n",
       "3  ETANOL HIDRATADO                           162              R$/l   \n",
       "4  ETANOL HIDRATADO                           103              R$/l   \n",
       "\n",
       "   PREÇO MÉDIO REVENDA  DESVIO PADRÃO REVENDA  PREÇO MÍNIMO REVENDA  \\\n",
       "0                1.288                  0.016                  1.19   \n",
       "1                1.162                  0.114                  0.89   \n",
       "2                1.389                  0.097                  1.18   \n",
       "3                1.262                  0.070                  1.09   \n",
       "4                1.181                  0.078                  1.05   \n",
       "\n",
       "   PREÇO MÁXIMO REVENDA MARGEM MÉDIA REVENDA  COEF DE VARIAÇÃO REVENDA  \\\n",
       "0                 1.350                0.463                     0.012   \n",
       "1                 1.449                0.399                     0.098   \n",
       "2                 1.760                0.419                     0.070   \n",
       "3                 1.509                0.432                     0.055   \n",
       "4                 1.400                 0.24                     0.066   \n",
       "\n",
       "  PREÇO MÉDIO DISTRIBUIÇÃO DESVIO PADRÃO DISTRIBUIÇÃO  \\\n",
       "0                    0.825                       0.11   \n",
       "1                    0.763                      0.088   \n",
       "2                     0.97                      0.095   \n",
       "3                     0.83                      0.119   \n",
       "4                    0.941                      0.077   \n",
       "\n",
       "  PREÇO MÍNIMO DISTRIBUIÇÃO PREÇO MÁXIMO DISTRIBUIÇÃO  \\\n",
       "0                    0.4201                    0.9666   \n",
       "1                    0.5013                      1.05   \n",
       "2                    0.5614                     1.161   \n",
       "3                    0.5991                   1.22242   \n",
       "4                    0.7441                    1.0317   \n",
       "\n",
       "  COEF DE VARIAÇÃO DISTRIBUIÇÃO  \n",
       "0                         0.133  \n",
       "1                         0.115  \n",
       "2                         0.098  \n",
       "3                         0.143  \n",
       "4                         0.082  "
      ]
     },
     "metadata": {},
     "output_type": "display_data"
    },
    {
     "name": "stdout",
     "output_type": "stream",
     "text": [
      "<class 'pandas.core.frame.DataFrame'>\n",
      "RangeIndex: 120823 entries, 0 to 120822\n",
      "Data columns (total 18 columns):\n",
      " #   Column                         Non-Null Count   Dtype  \n",
      "---  ------                         --------------   -----  \n",
      " 0   DATA INICIAL                   120823 non-null  object \n",
      " 1   DATA FINAL                     120823 non-null  object \n",
      " 2   REGIÃO                         120823 non-null  object \n",
      " 3   ESTADO                         120823 non-null  object \n",
      " 4   PRODUTO                        120823 non-null  object \n",
      " 5   NÚMERO DE POSTOS PESQUISADOS   120823 non-null  int64  \n",
      " 6   UNIDADE DE MEDIDA              120823 non-null  object \n",
      " 7   PREÇO MÉDIO REVENDA            120823 non-null  float64\n",
      " 8   DESVIO PADRÃO REVENDA          120823 non-null  float64\n",
      " 9   PREÇO MÍNIMO REVENDA           120823 non-null  float64\n",
      " 10  PREÇO MÁXIMO REVENDA           120823 non-null  float64\n",
      " 11  MARGEM MÉDIA REVENDA           120823 non-null  object \n",
      " 12  COEF DE VARIAÇÃO REVENDA       120823 non-null  float64\n",
      " 13  PREÇO MÉDIO DISTRIBUIÇÃO       120823 non-null  object \n",
      " 14  DESVIO PADRÃO DISTRIBUIÇÃO     120823 non-null  object \n",
      " 15  PREÇO MÍNIMO DISTRIBUIÇÃO      120823 non-null  object \n",
      " 16  PREÇO MÁXIMO DISTRIBUIÇÃO      120823 non-null  object \n",
      " 17  COEF DE VARIAÇÃO DISTRIBUIÇÃO  120823 non-null  object \n",
      "dtypes: float64(5), int64(1), object(12)\n",
      "memory usage: 16.6+ MB\n"
     ]
    },
    {
     "data": {
      "text/plain": [
       "None"
      ]
     },
     "metadata": {},
     "output_type": "display_data"
    }
   ],
   "source": [
    "import pandas as pd\n",
    "import matplotlib.pyplot as plt\n",
    "import seaborn\n",
    "import numpy as np\n",
    "\n",
    "df = pd.read_table('2004-2021.tsv')\n",
    "\n",
    "display(df.head(5))\n",
    "display(df.info())\n"
   ]
  },
  {
   "cell_type": "code",
   "execution_count": 46,
   "id": "b7d437bd",
   "metadata": {},
   "outputs": [
    {
     "name": "stdout",
     "output_type": "stream",
     "text": [
      "<class 'pandas.core.frame.DataFrame'>\n",
      "RangeIndex: 120823 entries, 0 to 120822\n",
      "Data columns (total 16 columns):\n",
      " #   Column                         Non-Null Count   Dtype  \n",
      "---  ------                         --------------   -----  \n",
      " 0   REGIÃO                         120823 non-null  object \n",
      " 1   ESTADO                         120823 non-null  object \n",
      " 2   PRODUTO                        120823 non-null  object \n",
      " 3   NÚMERO DE POSTOS PESQUISADOS   120823 non-null  int64  \n",
      " 4   UNIDADE DE MEDIDA              120823 non-null  object \n",
      " 5   PREÇO MÉDIO REVENDA            120823 non-null  float64\n",
      " 6   DESVIO PADRÃO REVENDA          120823 non-null  float64\n",
      " 7   PREÇO MÍNIMO REVENDA           120823 non-null  float64\n",
      " 8   PREÇO MÁXIMO REVENDA           120823 non-null  float64\n",
      " 9   MARGEM MÉDIA REVENDA           117392 non-null  float64\n",
      " 10  COEF DE VARIAÇÃO REVENDA       120823 non-null  float64\n",
      " 11  PREÇO MÉDIO DISTRIBUIÇÃO       117423 non-null  float64\n",
      " 12  DESVIO PADRÃO DISTRIBUIÇÃO     117423 non-null  float64\n",
      " 13  PREÇO MÍNIMO DISTRIBUIÇÃO      117423 non-null  float64\n",
      " 14  PREÇO MÁXIMO DISTRIBUIÇÃO      117423 non-null  float64\n",
      " 15  COEF DE VARIAÇÃO DISTRIBUIÇÃO  117423 non-null  float64\n",
      "dtypes: float64(11), int64(1), object(4)\n",
      "memory usage: 14.7+ MB\n"
     ]
    },
    {
     "data": {
      "application/vnd.microsoft.datawrangler.viewer.v0+json": {
       "columns": [
        {
         "name": "index",
         "rawType": "int64",
         "type": "integer"
        },
        {
         "name": "REGIÃO",
         "rawType": "object",
         "type": "string"
        },
        {
         "name": "ESTADO",
         "rawType": "object",
         "type": "string"
        },
        {
         "name": "PRODUTO",
         "rawType": "object",
         "type": "string"
        },
        {
         "name": "NÚMERO DE POSTOS PESQUISADOS",
         "rawType": "int64",
         "type": "integer"
        },
        {
         "name": "UNIDADE DE MEDIDA",
         "rawType": "object",
         "type": "string"
        },
        {
         "name": "PREÇO MÉDIO REVENDA",
         "rawType": "float64",
         "type": "float"
        },
        {
         "name": "DESVIO PADRÃO REVENDA",
         "rawType": "float64",
         "type": "float"
        },
        {
         "name": "PREÇO MÍNIMO REVENDA",
         "rawType": "float64",
         "type": "float"
        },
        {
         "name": "PREÇO MÁXIMO REVENDA",
         "rawType": "float64",
         "type": "float"
        },
        {
         "name": "MARGEM MÉDIA REVENDA",
         "rawType": "float64",
         "type": "float"
        },
        {
         "name": "COEF DE VARIAÇÃO REVENDA",
         "rawType": "float64",
         "type": "float"
        },
        {
         "name": "PREÇO MÉDIO DISTRIBUIÇÃO",
         "rawType": "float64",
         "type": "float"
        },
        {
         "name": "DESVIO PADRÃO DISTRIBUIÇÃO",
         "rawType": "float64",
         "type": "float"
        },
        {
         "name": "PREÇO MÍNIMO DISTRIBUIÇÃO",
         "rawType": "float64",
         "type": "float"
        },
        {
         "name": "PREÇO MÁXIMO DISTRIBUIÇÃO",
         "rawType": "float64",
         "type": "float"
        },
        {
         "name": "COEF DE VARIAÇÃO DISTRIBUIÇÃO",
         "rawType": "float64",
         "type": "float"
        }
       ],
       "ref": "8bef8290-7920-4c5f-93e9-390ab556398f",
       "rows": [
        [
         "0",
         "CENTRO OESTE",
         "DISTRITO FEDERAL",
         "ETANOL HIDRATADO",
         "127",
         "R$/l",
         "1.288",
         "0.016",
         "1.19",
         "1.35",
         "0.463",
         "0.012",
         "0.825",
         "0.11",
         "0.4201",
         "0.9666",
         "0.133"
        ],
        [
         "1",
         "CENTRO OESTE",
         "GOIAS",
         "ETANOL HIDRATADO",
         "387",
         "R$/l",
         "1.162",
         "0.114",
         "0.89",
         "1.449",
         "0.399",
         "0.098",
         "0.763",
         "0.088",
         "0.5013",
         "1.05",
         "0.115"
        ],
        [
         "2",
         "CENTRO OESTE",
         "MATO GROSSO",
         "ETANOL HIDRATADO",
         "192",
         "R$/l",
         "1.389",
         "0.0969999999999999",
         "1.18",
         "1.76",
         "0.419",
         "0.07",
         "0.97",
         "0.095",
         "0.5614",
         "1.161",
         "0.098"
        ],
        [
         "3",
         "CENTRO OESTE",
         "MATO GROSSO DO SUL",
         "ETANOL HIDRATADO",
         "162",
         "R$/l",
         "1.262",
         "0.07",
         "1.09",
         "1.509",
         "0.432",
         "0.055",
         "0.83",
         "0.119",
         "0.5991",
         "1.22242",
         "0.143"
        ],
        [
         "4",
         "NORDESTE",
         "ALAGOAS",
         "ETANOL HIDRATADO",
         "103",
         "R$/l",
         "1.181",
         "0.078",
         "1.05",
         "1.4",
         "0.24",
         "0.066",
         "0.941",
         "0.077",
         "0.7441",
         "1.0317",
         "0.082"
        ]
       ],
       "shape": {
        "columns": 16,
        "rows": 5
       }
      },
      "text/html": [
       "<div>\n",
       "<style scoped>\n",
       "    .dataframe tbody tr th:only-of-type {\n",
       "        vertical-align: middle;\n",
       "    }\n",
       "\n",
       "    .dataframe tbody tr th {\n",
       "        vertical-align: top;\n",
       "    }\n",
       "\n",
       "    .dataframe thead th {\n",
       "        text-align: right;\n",
       "    }\n",
       "</style>\n",
       "<table border=\"1\" class=\"dataframe\">\n",
       "  <thead>\n",
       "    <tr style=\"text-align: right;\">\n",
       "      <th></th>\n",
       "      <th>REGIÃO</th>\n",
       "      <th>ESTADO</th>\n",
       "      <th>PRODUTO</th>\n",
       "      <th>NÚMERO DE POSTOS PESQUISADOS</th>\n",
       "      <th>UNIDADE DE MEDIDA</th>\n",
       "      <th>PREÇO MÉDIO REVENDA</th>\n",
       "      <th>DESVIO PADRÃO REVENDA</th>\n",
       "      <th>PREÇO MÍNIMO REVENDA</th>\n",
       "      <th>PREÇO MÁXIMO REVENDA</th>\n",
       "      <th>MARGEM MÉDIA REVENDA</th>\n",
       "      <th>COEF DE VARIAÇÃO REVENDA</th>\n",
       "      <th>PREÇO MÉDIO DISTRIBUIÇÃO</th>\n",
       "      <th>DESVIO PADRÃO DISTRIBUIÇÃO</th>\n",
       "      <th>PREÇO MÍNIMO DISTRIBUIÇÃO</th>\n",
       "      <th>PREÇO MÁXIMO DISTRIBUIÇÃO</th>\n",
       "      <th>COEF DE VARIAÇÃO DISTRIBUIÇÃO</th>\n",
       "    </tr>\n",
       "  </thead>\n",
       "  <tbody>\n",
       "    <tr>\n",
       "      <th>0</th>\n",
       "      <td>CENTRO OESTE</td>\n",
       "      <td>DISTRITO FEDERAL</td>\n",
       "      <td>ETANOL HIDRATADO</td>\n",
       "      <td>127</td>\n",
       "      <td>R$/l</td>\n",
       "      <td>1.288</td>\n",
       "      <td>0.016</td>\n",
       "      <td>1.19</td>\n",
       "      <td>1.350</td>\n",
       "      <td>0.463</td>\n",
       "      <td>0.012</td>\n",
       "      <td>0.825</td>\n",
       "      <td>0.110</td>\n",
       "      <td>0.4201</td>\n",
       "      <td>0.96660</td>\n",
       "      <td>0.133</td>\n",
       "    </tr>\n",
       "    <tr>\n",
       "      <th>1</th>\n",
       "      <td>CENTRO OESTE</td>\n",
       "      <td>GOIAS</td>\n",
       "      <td>ETANOL HIDRATADO</td>\n",
       "      <td>387</td>\n",
       "      <td>R$/l</td>\n",
       "      <td>1.162</td>\n",
       "      <td>0.114</td>\n",
       "      <td>0.89</td>\n",
       "      <td>1.449</td>\n",
       "      <td>0.399</td>\n",
       "      <td>0.098</td>\n",
       "      <td>0.763</td>\n",
       "      <td>0.088</td>\n",
       "      <td>0.5013</td>\n",
       "      <td>1.05000</td>\n",
       "      <td>0.115</td>\n",
       "    </tr>\n",
       "    <tr>\n",
       "      <th>2</th>\n",
       "      <td>CENTRO OESTE</td>\n",
       "      <td>MATO GROSSO</td>\n",
       "      <td>ETANOL HIDRATADO</td>\n",
       "      <td>192</td>\n",
       "      <td>R$/l</td>\n",
       "      <td>1.389</td>\n",
       "      <td>0.097</td>\n",
       "      <td>1.18</td>\n",
       "      <td>1.760</td>\n",
       "      <td>0.419</td>\n",
       "      <td>0.070</td>\n",
       "      <td>0.970</td>\n",
       "      <td>0.095</td>\n",
       "      <td>0.5614</td>\n",
       "      <td>1.16100</td>\n",
       "      <td>0.098</td>\n",
       "    </tr>\n",
       "    <tr>\n",
       "      <th>3</th>\n",
       "      <td>CENTRO OESTE</td>\n",
       "      <td>MATO GROSSO DO SUL</td>\n",
       "      <td>ETANOL HIDRATADO</td>\n",
       "      <td>162</td>\n",
       "      <td>R$/l</td>\n",
       "      <td>1.262</td>\n",
       "      <td>0.070</td>\n",
       "      <td>1.09</td>\n",
       "      <td>1.509</td>\n",
       "      <td>0.432</td>\n",
       "      <td>0.055</td>\n",
       "      <td>0.830</td>\n",
       "      <td>0.119</td>\n",
       "      <td>0.5991</td>\n",
       "      <td>1.22242</td>\n",
       "      <td>0.143</td>\n",
       "    </tr>\n",
       "    <tr>\n",
       "      <th>4</th>\n",
       "      <td>NORDESTE</td>\n",
       "      <td>ALAGOAS</td>\n",
       "      <td>ETANOL HIDRATADO</td>\n",
       "      <td>103</td>\n",
       "      <td>R$/l</td>\n",
       "      <td>1.181</td>\n",
       "      <td>0.078</td>\n",
       "      <td>1.05</td>\n",
       "      <td>1.400</td>\n",
       "      <td>0.240</td>\n",
       "      <td>0.066</td>\n",
       "      <td>0.941</td>\n",
       "      <td>0.077</td>\n",
       "      <td>0.7441</td>\n",
       "      <td>1.03170</td>\n",
       "      <td>0.082</td>\n",
       "    </tr>\n",
       "  </tbody>\n",
       "</table>\n",
       "</div>"
      ],
      "text/plain": [
       "         REGIÃO              ESTADO           PRODUTO  \\\n",
       "0  CENTRO OESTE    DISTRITO FEDERAL  ETANOL HIDRATADO   \n",
       "1  CENTRO OESTE               GOIAS  ETANOL HIDRATADO   \n",
       "2  CENTRO OESTE         MATO GROSSO  ETANOL HIDRATADO   \n",
       "3  CENTRO OESTE  MATO GROSSO DO SUL  ETANOL HIDRATADO   \n",
       "4      NORDESTE             ALAGOAS  ETANOL HIDRATADO   \n",
       "\n",
       "   NÚMERO DE POSTOS PESQUISADOS UNIDADE DE MEDIDA  PREÇO MÉDIO REVENDA  \\\n",
       "0                           127              R$/l                1.288   \n",
       "1                           387              R$/l                1.162   \n",
       "2                           192              R$/l                1.389   \n",
       "3                           162              R$/l                1.262   \n",
       "4                           103              R$/l                1.181   \n",
       "\n",
       "   DESVIO PADRÃO REVENDA  PREÇO MÍNIMO REVENDA  PREÇO MÁXIMO REVENDA  \\\n",
       "0                  0.016                  1.19                 1.350   \n",
       "1                  0.114                  0.89                 1.449   \n",
       "2                  0.097                  1.18                 1.760   \n",
       "3                  0.070                  1.09                 1.509   \n",
       "4                  0.078                  1.05                 1.400   \n",
       "\n",
       "   MARGEM MÉDIA REVENDA  COEF DE VARIAÇÃO REVENDA  PREÇO MÉDIO DISTRIBUIÇÃO  \\\n",
       "0                 0.463                     0.012                     0.825   \n",
       "1                 0.399                     0.098                     0.763   \n",
       "2                 0.419                     0.070                     0.970   \n",
       "3                 0.432                     0.055                     0.830   \n",
       "4                 0.240                     0.066                     0.941   \n",
       "\n",
       "   DESVIO PADRÃO DISTRIBUIÇÃO  PREÇO MÍNIMO DISTRIBUIÇÃO  \\\n",
       "0                       0.110                     0.4201   \n",
       "1                       0.088                     0.5013   \n",
       "2                       0.095                     0.5614   \n",
       "3                       0.119                     0.5991   \n",
       "4                       0.077                     0.7441   \n",
       "\n",
       "   PREÇO MÁXIMO DISTRIBUIÇÃO  COEF DE VARIAÇÃO DISTRIBUIÇÃO  \n",
       "0                    0.96660                          0.133  \n",
       "1                    1.05000                          0.115  \n",
       "2                    1.16100                          0.098  \n",
       "3                    1.22242                          0.143  \n",
       "4                    1.03170                          0.082  "
      ]
     },
     "metadata": {},
     "output_type": "display_data"
    }
   ],
   "source": [
    "# Converter diretamente com to_numeric primeiro\n",
    "df['DATA INICIAL'] = pd.to_numeric(df['DATA INICIAL'], errors='coerce')\n",
    "df['DATA FINAL'] = pd.to_numeric(df['DATA FINAL'], errors='coerce')\n",
    "\n",
    "# Depois converter para string e preencher com zeros\n",
    "df['DATA INICIAL'] = df['DATA INICIAL'].apply(lambda x: str(int(x)).zfill(6) if pd.notna(x) else None)\n",
    "df['DATA FINAL'] = df['DATA FINAL'].apply(lambda x: str(int(x)).zfill(6) if pd.notna(x) else None)\n",
    "\n",
    "# Finalmente converter para datetime\n",
    "df['DATA INICIAL'] = pd.to_datetime(df['DATA INICIAL'], format='%d%m%y', errors='coerce')\n",
    "df['DATA FINAL'] = pd.to_datetime(df['DATA FINAL'], format='%d%m%y', errors='coerce')\n",
    "\n",
    "\n",
    "# Colunas de distribuição que vieram como object mas são números\n",
    "cols_dist = [\n",
    "    'PREÇO MÉDIO DISTRIBUIÇÃO',\n",
    "    'DESVIO PADRÃO DISTRIBUIÇÃO',\n",
    "    'PREÇO MÍNIMO DISTRIBUIÇÃO',\n",
    "    'PREÇO MÁXIMO DISTRIBUIÇÃO',\n",
    "    'COEF DE VARIAÇÃO DISTRIBUIÇÃO',\n",
    "    'MARGEM MÉDIA REVENDA'\n",
    "]\n",
    "\n",
    "for col in cols_dist:\n",
    "    # Substituir '-' por NaN e depois converter vírgula para ponto\n",
    "    df[col] = df[col].replace('-', None)  # ou np.nan\n",
    "    df[col] = df[col].str.replace(',', '.', regex=False)\n",
    "    df[col] = pd.to_numeric(df[col], errors='coerce')\n",
    "\n",
    "df = df.drop(['DATA INICIAL', 'DATA FINAL'], axis=1)\n",
    "\n",
    "\n",
    "df.info()\n",
    "display(df.head(5))\n"
   ]
  },
  {
   "cell_type": "markdown",
   "id": "3e3edd1f",
   "metadata": {},
   "source": [
    "#### 📊 ETAPA 2: ANÁLISE EXPLORATÓRIA INICIAL\n",
    "**O que investigar:**\n",
    "\n",
    "##### 2.1 Visão Geral\n",
    "- Quantos produtos diferentes existem?\n",
    "- Quantas regiões e estados estão no dataset?\n",
    "- Qual o período coberto (nome do arquivo sugere 2004-2021)?\n",
    "- Quantos postos foram pesquisados (média, min, max)?\n",
    "\n",
    "##### 2.2 Distribuição dos Dados\n",
    "- Qual produto tem mais registros?\n",
    "- Qual região/estado tem mais observações?\n",
    "- Há desbalanceamento nos dados?\n",
    "\n",
    "**Gráficos sugeridos:**\n",
    "- Contagem de registros por produto (barras)\n",
    "- Distribuição de registros por região (pizza ou barras)\n",
    "- Número de postos pesquisados por estado (mapa de calor ou barras)\n",
    "\n",
    "---"
   ]
  },
  {
   "cell_type": "code",
   "execution_count": 47,
   "id": "d1077904",
   "metadata": {},
   "outputs": [
    {
     "name": "stdout",
     "output_type": "stream",
     "text": [
      "\n",
      "PRODUTOS: \n",
      "['ETANOL HIDRATADO' 'GASOLINA COMUM' 'GLP' 'GNV' 'ÓLEO DIESEL'\n",
      " 'ÓLEO DIESEL S10' 'OLEO DIESEL' 'OLEO DIESEL S10' 'GASOLINA ADITIVADA']\n",
      "\n",
      " REGIOES: \n",
      "['CENTRO OESTE' 'NORDESTE' 'NORTE' 'SUDESTE' 'SUL']\n",
      "\n",
      " Distribuição por Produto\n",
      "PRODUTO\n",
      "GASOLINA COMUM        23570\n",
      "GLP                   23561\n",
      "ETANOL HIDRATADO      23440\n",
      "ÓLEO DIESEL           21194\n",
      "GNV                   14469\n",
      "ÓLEO DIESEL S10        9113\n",
      "OLEO DIESEL S10        2376\n",
      "OLEO DIESEL            2351\n",
      "GASOLINA ADITIVADA      749\n",
      "Name: count, dtype: int64\n",
      "\n",
      "Estatísticas de postos:\n",
      "count    120823.000000\n",
      "mean        221.066461\n",
      "std         387.940239\n",
      "min           1.000000\n",
      "25%          39.000000\n",
      "50%          99.000000\n",
      "75%         226.000000\n",
      "max        4167.000000\n",
      "Name: NÚMERO DE POSTOS PESQUISADOS, dtype: float64\n"
     ]
    },
    {
     "data": {
      "application/vnd.microsoft.datawrangler.viewer.v0+json": {
       "columns": [
        {
         "name": "('ESTADO', 'REGIÃO')",
         "rawType": "object",
         "type": "unknown"
        },
        {
         "name": "count",
         "rawType": "int64",
         "type": "integer"
        }
       ],
       "ref": "45c8553c-0994-4b2a-b2de-6cd0cab78964",
       "rows": [
        [
         "('BAHIA', 'NORDESTE')",
         "4819"
        ],
        [
         "('RIO DE JANEIRO', 'SUDESTE')",
         "4819"
        ],
        [
         "('PARAIBA', 'NORDESTE')",
         "4819"
        ],
        [
         "('RIO GRANDE DO SUL', 'SUL')",
         "4819"
        ],
        [
         "('SAO PAULO', 'SUDESTE')",
         "4819"
        ],
        [
         "('SANTA CATARINA', 'SUL')",
         "4818"
        ],
        [
         "('RIO GRANDE DO NORTE', 'NORDESTE')",
         "4818"
        ],
        [
         "('MINAS GERAIS', 'SUDESTE')",
         "4817"
        ],
        [
         "('ESPIRITO SANTO', 'SUDESTE')",
         "4815"
        ],
        [
         "('PERNAMBUCO', 'NORDESTE')",
         "4813"
        ],
        [
         "('CEARA', 'NORDESTE')",
         "4813"
        ],
        [
         "('PARANA', 'SUL')",
         "4807"
        ],
        [
         "('ALAGOAS', 'NORDESTE')",
         "4806"
        ],
        [
         "('SERGIPE', 'NORDESTE')",
         "4795"
        ],
        [
         "('MATO GROSSO DO SUL', 'CENTRO OESTE')",
         "4793"
        ],
        [
         "('MATO GROSSO', 'CENTRO OESTE')",
         "4566"
        ],
        [
         "('AMAZONAS', 'NORTE')",
         "4414"
        ],
        [
         "('GOIAS', 'CENTRO OESTE')",
         "4134"
        ],
        [
         "('PIAUI', 'NORDESTE')",
         "4017"
        ],
        [
         "('MARANHAO', 'NORDESTE')",
         "3971"
        ],
        [
         "('DISTRITO FEDERAL', 'CENTRO OESTE')",
         "3956"
        ],
        [
         "('PARA', 'NORTE')",
         "3955"
        ],
        [
         "('TOCANTINS', 'NORTE')",
         "3953"
        ],
        [
         "('RONDONIA', 'NORTE')",
         "3950"
        ],
        [
         "('ACRE', 'NORTE')",
         "3948"
        ],
        [
         "('RORAIMA', 'NORTE')",
         "3938"
        ],
        [
         "('AMAPA', 'NORTE')",
         "3831"
        ]
       ],
       "shape": {
        "columns": 1,
        "rows": 27
       }
      },
      "text/plain": [
       "ESTADO               REGIÃO      \n",
       "BAHIA                NORDESTE        4819\n",
       "RIO DE JANEIRO       SUDESTE         4819\n",
       "PARAIBA              NORDESTE        4819\n",
       "RIO GRANDE DO SUL    SUL             4819\n",
       "SAO PAULO            SUDESTE         4819\n",
       "SANTA CATARINA       SUL             4818\n",
       "RIO GRANDE DO NORTE  NORDESTE        4818\n",
       "MINAS GERAIS         SUDESTE         4817\n",
       "ESPIRITO SANTO       SUDESTE         4815\n",
       "PERNAMBUCO           NORDESTE        4813\n",
       "CEARA                NORDESTE        4813\n",
       "PARANA               SUL             4807\n",
       "ALAGOAS              NORDESTE        4806\n",
       "SERGIPE              NORDESTE        4795\n",
       "MATO GROSSO DO SUL   CENTRO OESTE    4793\n",
       "MATO GROSSO          CENTRO OESTE    4566\n",
       "AMAZONAS             NORTE           4414\n",
       "GOIAS                CENTRO OESTE    4134\n",
       "PIAUI                NORDESTE        4017\n",
       "MARANHAO             NORDESTE        3971\n",
       "DISTRITO FEDERAL     CENTRO OESTE    3956\n",
       "PARA                 NORTE           3955\n",
       "TOCANTINS            NORTE           3953\n",
       "RONDONIA             NORTE           3950\n",
       "ACRE                 NORTE           3948\n",
       "RORAIMA              NORTE           3938\n",
       "AMAPA                NORTE           3831\n",
       "Name: count, dtype: int64"
      ]
     },
     "metadata": {},
     "output_type": "display_data"
    }
   ],
   "source": [
    "\n",
    "print(\"\\nPRODUTOS: \")\n",
    "print(df['PRODUTO'].unique())\n",
    "print(\"\\n REGIOES: \")\n",
    "print(df['REGIÃO'].unique())\n",
    "\n",
    "\n",
    "# 2. Distribuição por Produto\n",
    "print(\"\\n Distribuição por Produto\")\n",
    "print(df['PRODUTO'].value_counts())\n",
    "\n",
    "\n",
    "# Quantos postos pesquisados?\n",
    "print(\"\\nEstatísticas de postos:\")\n",
    "print(df['NÚMERO DE POSTOS PESQUISADOS'].describe())\n",
    "\n",
    "\n",
    "regiao_estado = df[['ESTADO', 'REGIÃO']].value_counts()\n",
    "display(regiao_estado)\n"
   ]
  },
  {
   "cell_type": "code",
   "execution_count": 54,
   "id": "a7f43173",
   "metadata": {},
   "outputs": [
    {
     "data": {
      "image/png": "[encoded data removed]",
      "text/plain": [
       "<Figure size 1400x650 with 2 Axes>"
      ]
     },
     "metadata": {},
     "output_type": "display_data"
    }
   ],
   "source": [
    "\n",
    "#Grafico de porcentagens de produtos mais destribuidos e de regioes\n",
    "\n",
    "\n",
    "# Calcular porcentagens\n",
    "porcentagem_produto = df['PRODUTO'].value_counts(normalize=True) * 100\n",
    "porcentagem_regiao = df['REGIÃO'].value_counts(normalize=True) * 100    \n",
    "porcentagem_regiao = porcentagem_regiao.sort_values()\n",
    "\n",
    "# Estilo visual\n",
    "plt.style.use('seaborn-v0_8')\n",
    "\n",
    "# Criar subplots lado a lado\n",
    "fig, axes = plt.subplots(1, 2, figsize=(14, 6.5))  # 1 linha, 2 colunas\n",
    "\n",
    "# Paletas de cores diferentes\n",
    "cores_produto = plt.cm.Blues(np.linspace(1, 0.3, len(porcentagem_produto)))\n",
    "cores_regiao = plt.cm.Oranges(np.linspace(1, 0.3, len(porcentagem_regiao)))\n",
    "\n",
    "# ======== GRÁFICO 1: Produto ========\n",
    "porcentagem_produto.plot(kind='bar', color=cores_produto, edgecolor='black', ax=axes[0])\n",
    "axes[0].set_title('Distribuição de Registros por Produto', fontsize=14, fontweight='bold', pad=10)\n",
    "axes[0].set_xlabel('Produto', fontsize=12)\n",
    "axes[0].set_ylabel('Quantidade (%)', fontsize=12)\n",
    "axes[0].tick_params(axis='x', rotation=45)\n",
    "\n",
    "for p in axes[0].patches:\n",
    "    axes[0].text(p.get_x() + p.get_width()/2, p.get_height() + 0.5,\n",
    "                 f'{p.get_height():.1f}%', ha='center', va='bottom', fontsize=10, fontweight='bold')\n",
    "\n",
    "\n",
    "\n",
    "# ======== GRÁFICO 2: Região ========\n",
    "porcentagem_regiao.plot(kind='barh', color=cores_regiao, edgecolor='black', ax=axes[1])\n",
    "axes[1].set_title('Distribuição de Registros por Região', fontsize=14, fontweight='bold', pad=10)\n",
    "axes[1].set_xlabel('Quantidade (%)', fontsize=12)\n",
    "axes[1].set_ylabel('')\n",
    "\n",
    "\n",
    "for p in axes[1].patches:\n",
    "    width = p.get_width()  # comprimento da barra\n",
    "    y = p.get_y() + p.get_height() / 2  # centro vertical da barra\n",
    "    axes[1].text(width + 0.5, y, f'{width:.1f}%', ha='left', va='center',\n",
    "                 fontsize=9.5, fontweight='bold', color='#333333')\n",
    "\n",
    "\n",
    "plt.suptitle('Distribuição Percentual por Produto e Região', fontsize=16, fontweight='bold', y=1.03)\n",
    "plt.tight_layout()\n",
    "plt.show()\n"
   ]
  },
  {
   "cell_type": "code",
   "execution_count": null,
   "id": "20fbbe51",
   "metadata": {},
   "outputs": [],
   "source": []
  }
 ],
 "metadata": {
  "kernelspec": {
   "display_name": "Python 3",
   "language": "python",
   "name": "python3"
  },
  "language_info": {
   "codemirror_mode": {
    "name": "ipython",
    "version": 3
   },
   "file_extension": ".py",
   "mimetype": "text/x-python",
   "name": "python",
   "nbconvert_exporter": "python",
   "pygments_lexer": "ipython3",
   "version": "3.13.7"
  }
 },
 "nbformat": 4,
 "nbformat_minor": 5
}
